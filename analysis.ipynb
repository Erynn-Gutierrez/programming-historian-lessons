{
 "cells": [
  {
   "cell_type": "markdown",
   "id": "bef79fbb",
   "metadata": {},
   "source": [
    "# Sentiment Analysis for Exploratory Data Analysis"
   ]
  },
  {
   "cell_type": "markdown",
   "id": "d170fd1c",
   "metadata": {},
   "source": [
    "modified by: Erynn Gutierrez\n",
    "[Link to lesson](https://programminghistorian.org/en/lessons/sentiment-analysis)"
   ]
  },
  {
   "cell_type": "code",
   "execution_count": 1,
   "id": "3077cb45",
   "metadata": {},
   "outputs": [
    {
     "name": "stderr",
     "output_type": "stream",
     "text": [
      "[nltk_data] Downloading package vader_lexicon to\n",
      "[nltk_data]     /home/codespace/nltk_data...\n",
      "[nltk_data]   Package vader_lexicon is already up-to-date!\n",
      "[nltk_data] Downloading package punkt to /home/codespace/nltk_data...\n",
      "[nltk_data]   Package punkt is already up-to-date!\n"
     ]
    },
    {
     "data": {
      "text/plain": [
       "True"
      ]
     },
     "execution_count": 1,
     "metadata": {},
     "output_type": "execute_result"
    }
   ],
   "source": [
    "import nltk\n",
    "nltk.download('vader_lexicon')\n",
    "nltk.download('punkt')"
   ]
  },
  {
   "cell_type": "markdown",
   "id": "a13f6998",
   "metadata": {},
   "source": [
    "The following definition uses the VADER sentiment analysis tool, text yields a set of positive, neutral, and negative scores, which are then aggregated and scaled as a ‘compound score’. \\\n",
    "\n",
    "VADER also sums all weighted scores to calculate a “compound” value normalized between -1 and 1; this value attempts to describe the overall affect of the entire text from strongly negative (-1) to strongly positive (1). In this case, the VADER analysis describes the passage as slightly-to-moderately negative (-0.3804). We can think of this value as estimating the overall impression of an average reader when considering the e-mail as a whole, despite some ambiguity and ambivalence along the way."
   ]
  },
  {
   "cell_type": "code",
   "execution_count": 2,
   "id": "e1d05b69",
   "metadata": {},
   "outputs": [],
   "source": [
    "# first, we import the relevant modules from the NLTK library\n",
    "from nltk.sentiment.vader import SentimentIntensityAnalyzer\n",
    "\n",
    "def analyse_message(message_text):\n",
    "\n",
    "    # next, we initialize VADER so we can use it within our Python script\n",
    "    sid = SentimentIntensityAnalyzer()\n",
    "\n",
    "    # Calling the polarity_scores method on sid and passing in the message_text outputs a dictionary with negative, neutral, positive, and compound scores for the input text\n",
    "    scores = sid.polarity_scores(message_text)\n",
    "\n",
    "    print(message_text)\n",
    "\n",
    "    # Here we loop through the keys contained in scores (pos, neu, neg, and compound scores) and print the key-value pairs on the screen\n",
    "    for key in sorted(scores):\n",
    "            print('{0}: {1}, '.format(key, scores[key]), end='')"
   ]
  },
  {
   "cell_type": "code",
   "execution_count": 3,
   "id": "aaf15b0b",
   "metadata": {},
   "outputs": [
    {
     "name": "stdout",
     "output_type": "stream",
     "text": [
      "Looks great.  I think we should have a least 1 or 2 real time traders in Calgary.\n",
      "compound: 0.6249, neg: 0.0, neu: 0.745, pos: 0.255, \n",
      "\n",
      "I think we are making great progress on the systems side.  I would like to\n",
      "set a deadline of November 10th to have a plan on all North American projects\n",
      "(I'm ok if fundementals groups are excluded) that is signed off on by\n",
      "commercial, Sally's world, and Beth's world.  When I say signed off I mean\n",
      "that I want signitures on a piece of paper that everyone is onside with the\n",
      "plan for each project.  If you don't agree don't sign. If certain projects\n",
      "(ie. the gas plan) are not done yet then lay out a timeframe that the plan\n",
      "will be complete.  I want much more in the way of specifics about objectives\n",
      "and timeframe.\n",
      "\n",
      "Thanks for everyone's hard work on this.\n",
      "compound: 0.8951, neg: 0.042, neu: 0.821, pos: 0.136, "
     ]
    }
   ],
   "source": [
    "# setting message text\n",
    "\n",
    "message_1 = \"Looks great.  I think we should have a least 1 or 2 real time traders in Calgary.\"\n",
    "\n",
    "message_2 = \"\"\"I think we are making great progress on the systems side.  I would like to\n",
    "set a deadline of November 10th to have a plan on all North American projects\n",
    "(I'm ok if fundementals groups are excluded) that is signed off on by\n",
    "commercial, Sally's world, and Beth's world.  When I say signed off I mean\n",
    "that I want signitures on a piece of paper that everyone is onside with the\n",
    "plan for each project.  If you don't agree don't sign. If certain projects\n",
    "(ie. the gas plan) are not done yet then lay out a timeframe that the plan\n",
    "will be complete.  I want much more in the way of specifics about objectives\n",
    "and timeframe.\n",
    "\n",
    "Thanks for everyone's hard work on this.\"\"\"\n",
    "\n",
    "analyse_message(message_1)\n",
    "print(\"\\n\")\n",
    "analyse_message(message_2)"
   ]
  },
  {
   "cell_type": "markdown",
   "id": "d25adb14",
   "metadata": {},
   "source": [
    "Here you can see that, when analyzing the e-mail as a whole, VADER returns values that suggest the message is mostly neural (neu: 0.765) but that more features appear to be positive (pos: 0.14) rather than negative (0.096). VADER computes an overall sentiment score of 0.889 for the message (on a scale of -1 to 1) which suggests a strongly positive affect for the message as a whole."
   ]
  },
  {
   "cell_type": "code",
   "execution_count": 4,
   "id": "81938111",
   "metadata": {},
   "outputs": [
    {
     "name": "stdout",
     "output_type": "stream",
     "text": [
      "It seems to me we are in the middle of no man's land with respect to the  following:  Opec production speculation, Mid east crisis and renewed  tensions, US elections and what looks like a slowing economy (?), and no real weather anywhere in the world. I think it would be most prudent to play  the markets from a very flat price position and try to day trade more aggressively. I have no intentions of outguessing Mr. Greenspan, the US. electorate, the Opec ministers and their new important roles, The Israeli and Palestinian leaders, and somewhat importantly, Mother Nature.  Given that, and that we cannot afford to lose any more money, and that Var seems to be a problem, let's be as flat as possible. I'm ok with spread risk  (not front to backs, but commodity spreads). The morning meetings are not inspiring, and I don't have a real feel for  everyone's passion with respect to the markets.  As such, I'd like to ask  John N. to run the morning meetings on Mon. and Wed.  Thanks. Jeff\n",
      "compound: 0.889, neg: 0.096, neu: 0.765, pos: 0.14, "
     ]
    }
   ],
   "source": [
    "message_3 = '''It seems to me we are in the middle of no man's land with respect to the  following:  Opec production speculation, Mid east crisis and renewed  tensions, US elections and what looks like a slowing economy (?), and no real weather anywhere in the world. I think it would be most prudent to play  the markets from a very flat price position and try to day trade more aggressively. I have no intentions of outguessing Mr. Greenspan, the US. electorate, the Opec ministers and their new important roles, The Israeli and Palestinian leaders, and somewhat importantly, Mother Nature.  Given that, and that we cannot afford to lose any more money, and that Var seems to be a problem, let's be as flat as possible. I'm ok with spread risk  (not front to backs, but commodity spreads). The morning meetings are not inspiring, and I don't have a real feel for  everyone's passion with respect to the markets.  As such, I'd like to ask  John N. to run the morning meetings on Mon. and Wed.  Thanks. Jeff'''\n",
    "analyse_message(message_3)"
   ]
  },
  {
   "cell_type": "markdown",
   "id": "928e6641",
   "metadata": {},
   "source": [
    "This function analyzes each sentence separately instead of encompassing the scores of the entire text."
   ]
  },
  {
   "cell_type": "code",
   "execution_count": null,
   "id": "12fb8bf7",
   "metadata": {},
   "outputs": [
    {
     "name": "stderr",
     "output_type": "stream",
     "text": [
      "[nltk_data] Downloading package punkt_tab to\n",
      "[nltk_data]     /home/codespace/nltk_data...\n",
      "[nltk_data]   Package punkt_tab is already up-to-date!\n"
     ]
    }
   ],
   "source": [
    "# nltk.download('punkt_tab')\n",
    "import nltk.data\n",
    "from nltk.tokenize import PunktTokenizer\n",
    "\n",
    "# MODIFIED from Programming Historian due to pickling being removed from NLKT\n",
    "# referenced NLKT documentation + Stack Overflow for the nltk.download tip!\n",
    "\n",
    "def analyze_sentences(text):\n",
    "    sent_detector = PunktTokenizer()\n",
    "    sid = SentimentIntensityAnalyzer()\n",
    "\n",
    "    # Tokenize and analyze\n",
    "    sentences = sent_detector.tokenize(text)\n",
    "\n",
    "    for sentence in sentences:\n",
    "        print(sentence)\n",
    "        scores = sid.polarity_scores(sentence)\n",
    "        for key in sorted(scores):\n",
    "            print(f'{key}: {scores[key]}, ', end='')\n",
    "        print(\"\\n\")\n",
    "        print()"
   ]
  },
  {
   "cell_type": "code",
   "execution_count": 14,
   "id": "baa1b8da",
   "metadata": {},
   "outputs": [
    {
     "name": "stdout",
     "output_type": "stream",
     "text": [
      "\n",
      "Punkt knows that the periods in Mr. Smith and Johann S. Bach\n",
      "do not mark sentence boundaries.\n",
      "compound: -0.0572, neg: 0.071, neu: 0.929, pos: 0.0, \n",
      "\n",
      "\n",
      "And sometimes sentences\n",
      "can start with non-capitalized words.\n",
      "compound: 0.0516, neg: 0.0, neu: 0.854, pos: 0.146, \n",
      "\n",
      "\n",
      "i is a good variable\n",
      "name.\n",
      "compound: 0.4404, neg: 0.0, neu: 0.508, pos: 0.492, \n",
      "\n",
      "\n"
     ]
    }
   ],
   "source": [
    "my_text = '''\n",
    "Punkt knows that the periods in Mr. Smith and Johann S. Bach\n",
    "do not mark sentence boundaries.  And sometimes sentences\n",
    "can start with non-capitalized words.  i is a good variable\n",
    "name.\n",
    "'''\n",
    "analyze_sentences(my_text)"
   ]
  }
 ],
 "metadata": {
  "kernelspec": {
   "display_name": "Python 3",
   "language": "python",
   "name": "python3"
  },
  "language_info": {
   "codemirror_mode": {
    "name": "ipython",
    "version": 3
   },
   "file_extension": ".py",
   "mimetype": "text/x-python",
   "name": "python",
   "nbconvert_exporter": "python",
   "pygments_lexer": "ipython3",
   "version": "3.12.1"
  }
 },
 "nbformat": 4,
 "nbformat_minor": 5
}
